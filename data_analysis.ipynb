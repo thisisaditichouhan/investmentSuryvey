{
 "cells": [
  {
   "cell_type": "markdown",
   "metadata": {},
   "source": [
    "# Investment and Employment Survey Analysis\n",
    "\n",
    "## Introduction\n",
    "\n",
    "### Data Source: I had conducted a survey in the period of jun-jul of 2024\n",
    "This dataset contains survey responses related to employment, investment habits, and financial decisions. The data includes information about respondents' demographic details, investment preferences, and compensation structures."
   ]
  },
  {
   "cell_type": "markdown",
   "metadata": {},
   "source": [
    "## Libraries Used\n",
    "\n",
    "To analyze and visualize this dataset, I will use the following Python libraries:\n",
    "\n",
    "- **Pandas**: For data manipulation and analysis.\n",
    "- **NumPy**: For numerical operations and handling arrays.\n",
    "- **Matplotlib**: For creating static, animated, and interactive visualizations.\n",
    "- **Seaborn**: For statistical data visualization and making plots more visually appealing."
   ]
  },
  {
   "cell_type": "code",
   "execution_count": 1,
   "metadata": {},
   "outputs": [],
   "source": [
    "import pandas as pd\n",
    "#reading the input data\n",
    "rawData = pd.read_csv(\"survey.csv\") \n"
   ]
  },
  {
   "cell_type": "code",
   "execution_count": 2,
   "metadata": {},
   "outputs": [],
   "source": [
    "#renaming the columns\n",
    "rawData.rename(columns={\"Are you employedld_col1\": \"Employed\", \"Do you invest the money earned or saved or received from family (if not employed currently) ?\": \"Investing\",\"Where do you invest? (Select all the apply)\":\"Area of Investment\",\"Do you get paid in ESOPs (employee stock ownership plan as a part of your CTC)?\":\"ESOPs\",\"City of work (Write like this - Example: Pune, Maharashtra, India)\":\"Work city\",\"Home town (Write like this - Example: Pune, Maharashtra, India)\":\"Hometown\"}, inplace=True)"
   ]
  },
  {
   "cell_type": "code",
   "execution_count": 3,
   "metadata": {},
   "outputs": [
    {
     "data": {
      "text/html": [
       "<div>\n",
       "<style scoped>\n",
       "    .dataframe tbody tr th:only-of-type {\n",
       "        vertical-align: middle;\n",
       "    }\n",
       "\n",
       "    .dataframe tbody tr th {\n",
       "        vertical-align: top;\n",
       "    }\n",
       "\n",
       "    .dataframe thead th {\n",
       "        text-align: right;\n",
       "    }\n",
       "</style>\n",
       "<table border=\"1\" class=\"dataframe\">\n",
       "  <thead>\n",
       "    <tr style=\"text-align: right;\">\n",
       "      <th></th>\n",
       "      <th>Timestamp</th>\n",
       "      <th>Age (Complete)</th>\n",
       "      <th>Gender</th>\n",
       "      <th>Are you employed</th>\n",
       "      <th>Investing</th>\n",
       "      <th>Area of Investment</th>\n",
       "      <th>ESOPs</th>\n",
       "      <th>Work city</th>\n",
       "      <th>Hometown</th>\n",
       "    </tr>\n",
       "  </thead>\n",
       "  <tbody>\n",
       "    <tr>\n",
       "      <th>0</th>\n",
       "      <td>3/31/2024 16:06:03</td>\n",
       "      <td>26</td>\n",
       "      <td>Female</td>\n",
       "      <td>Yes</td>\n",
       "      <td>Yes</td>\n",
       "      <td>Stocks, Gold/Silver/Platinum, Unit Linked Insu...</td>\n",
       "      <td>No</td>\n",
       "      <td>Nagpur</td>\n",
       "      <td>Nagpur</td>\n",
       "    </tr>\n",
       "    <tr>\n",
       "      <th>1</th>\n",
       "      <td>3/31/2024 16:12:11</td>\n",
       "      <td>26</td>\n",
       "      <td>Male</td>\n",
       "      <td>Yes</td>\n",
       "      <td>Yes</td>\n",
       "      <td>Stocks, Mutual Fund, Bonds, Certificate of Dep...</td>\n",
       "      <td>Yes</td>\n",
       "      <td>Bengaluru, India</td>\n",
       "      <td>Varanasi</td>\n",
       "    </tr>\n",
       "    <tr>\n",
       "      <th>2</th>\n",
       "      <td>3/31/2024 16:28:38</td>\n",
       "      <td>23</td>\n",
       "      <td>Female</td>\n",
       "      <td>Yes</td>\n",
       "      <td>Yes</td>\n",
       "      <td>National Pensions System</td>\n",
       "      <td>No</td>\n",
       "      <td>Indore</td>\n",
       "      <td>Narsinghpur</td>\n",
       "    </tr>\n",
       "    <tr>\n",
       "      <th>3</th>\n",
       "      <td>3/31/2024 16:33:00</td>\n",
       "      <td>27</td>\n",
       "      <td>Female</td>\n",
       "      <td>Yes</td>\n",
       "      <td>Yes</td>\n",
       "      <td>Mutual Fund</td>\n",
       "      <td>No</td>\n",
       "      <td>Nagpur</td>\n",
       "      <td>Nagpur</td>\n",
       "    </tr>\n",
       "    <tr>\n",
       "      <th>4</th>\n",
       "      <td>3/31/2024 16:34:29</td>\n",
       "      <td>26</td>\n",
       "      <td>Male</td>\n",
       "      <td>Yes</td>\n",
       "      <td>No</td>\n",
       "      <td>Stocks, Mutual Fund, Real Estate, Gold/Silver/...</td>\n",
       "      <td>No</td>\n",
       "      <td>Nagpur</td>\n",
       "      <td>Nagpur</td>\n",
       "    </tr>\n",
       "  </tbody>\n",
       "</table>\n",
       "</div>"
      ],
      "text/plain": [
       "            Timestamp Age (Complete)  Gender Are you employed Investing  \\\n",
       "0  3/31/2024 16:06:03             26  Female              Yes       Yes   \n",
       "1  3/31/2024 16:12:11             26    Male              Yes       Yes   \n",
       "2  3/31/2024 16:28:38             23  Female              Yes       Yes   \n",
       "3  3/31/2024 16:33:00             27  Female              Yes       Yes   \n",
       "4  3/31/2024 16:34:29             26    Male              Yes        No   \n",
       "\n",
       "                                  Area of Investment ESOPs         Work city  \\\n",
       "0  Stocks, Gold/Silver/Platinum, Unit Linked Insu...    No            Nagpur   \n",
       "1  Stocks, Mutual Fund, Bonds, Certificate of Dep...   Yes  Bengaluru, India   \n",
       "2                           National Pensions System    No            Indore   \n",
       "3                                        Mutual Fund    No           Nagpur    \n",
       "4  Stocks, Mutual Fund, Real Estate, Gold/Silver/...    No            Nagpur   \n",
       "\n",
       "       Hometown  \n",
       "0        Nagpur  \n",
       "1      Varanasi  \n",
       "2  Narsinghpur   \n",
       "3       Nagpur   \n",
       "4       Nagpur   "
      ]
     },
     "execution_count": 3,
     "metadata": {},
     "output_type": "execute_result"
    }
   ],
   "source": [
    "#seeing the columns\n",
    "rawData.columns\n",
    "rawData.head()"
   ]
  },
  {
   "cell_type": "code",
   "execution_count": 4,
   "metadata": {},
   "outputs": [
    {
     "name": "stdout",
     "output_type": "stream",
     "text": [
      "Requirement already satisfied: matplotlib in f:\\taiyarijeetki\\survey\\venv\\lib\\site-packages (3.10.1)\n",
      "Requirement already satisfied: seaborn in f:\\taiyarijeetki\\survey\\venv\\lib\\site-packages (0.13.2)\n",
      "Requirement already satisfied: contourpy>=1.0.1 in f:\\taiyarijeetki\\survey\\venv\\lib\\site-packages (from matplotlib) (1.3.1)\n",
      "Requirement already satisfied: cycler>=0.10 in f:\\taiyarijeetki\\survey\\venv\\lib\\site-packages (from matplotlib) (0.12.1)\n",
      "Requirement already satisfied: fonttools>=4.22.0 in f:\\taiyarijeetki\\survey\\venv\\lib\\site-packages (from matplotlib) (4.56.0)\n",
      "Requirement already satisfied: kiwisolver>=1.3.1 in f:\\taiyarijeetki\\survey\\venv\\lib\\site-packages (from matplotlib) (1.4.8)\n",
      "Requirement already satisfied: numpy>=1.23 in f:\\taiyarijeetki\\survey\\venv\\lib\\site-packages (from matplotlib) (2.2.3)\n",
      "Requirement already satisfied: packaging>=20.0 in f:\\taiyarijeetki\\survey\\venv\\lib\\site-packages (from matplotlib) (24.2)\n",
      "Requirement already satisfied: pillow>=8 in f:\\taiyarijeetki\\survey\\venv\\lib\\site-packages (from matplotlib) (11.1.0)\n",
      "Requirement already satisfied: pyparsing>=2.3.1 in f:\\taiyarijeetki\\survey\\venv\\lib\\site-packages (from matplotlib) (3.2.1)\n",
      "Requirement already satisfied: python-dateutil>=2.7 in f:\\taiyarijeetki\\survey\\venv\\lib\\site-packages (from matplotlib) (2.9.0.post0)\n",
      "Requirement already satisfied: pandas>=1.2 in f:\\taiyarijeetki\\survey\\venv\\lib\\site-packages (from seaborn) (2.2.3)\n",
      "Requirement already satisfied: pytz>=2020.1 in f:\\taiyarijeetki\\survey\\venv\\lib\\site-packages (from pandas>=1.2->seaborn) (2025.1)\n",
      "Requirement already satisfied: tzdata>=2022.7 in f:\\taiyarijeetki\\survey\\venv\\lib\\site-packages (from pandas>=1.2->seaborn) (2025.1)\n",
      "Requirement already satisfied: six>=1.5 in f:\\taiyarijeetki\\survey\\venv\\lib\\site-packages (from python-dateutil>=2.7->matplotlib) (1.17.0)\n",
      "Note: you may need to restart the kernel to use updated packages.\n"
     ]
    },
    {
     "name": "stderr",
     "output_type": "stream",
     "text": [
      "\n",
      "[notice] A new release of pip is available: 23.2.1 -> 25.0.1\n",
      "[notice] To update, run: python.exe -m pip install --upgrade pip\n"
     ]
    }
   ],
   "source": [
    "#installing libs for data viz creation\n",
    "%pip install matplotlib seaborn\n"
   ]
  },
  {
   "cell_type": "code",
   "execution_count": 5,
   "metadata": {},
   "outputs": [
    {
     "data": {
      "text/plain": [
       "Index(['Timestamp', 'Age (Complete)', 'Gender', 'Are you employed',\n",
       "       'Investing', 'Area of Investment', 'ESOPs', 'Work city', 'Hometown'],\n",
       "      dtype='object')"
      ]
     },
     "execution_count": 5,
     "metadata": {},
     "output_type": "execute_result"
    }
   ],
   "source": [
    "rawData.columns"
   ]
  },
  {
   "cell_type": "code",
   "execution_count": 6,
   "metadata": {},
   "outputs": [
    {
     "data": {
      "text/plain": [
       "Index(['Timestamp', 'Age (Complete)', 'Gender', 'Are you employed',\n",
       "       'Investing', 'Area of Investment', 'ESOPs', 'Work city', 'Hometown'],\n",
       "      dtype='object')"
      ]
     },
     "execution_count": 6,
     "metadata": {},
     "output_type": "execute_result"
    }
   ],
   "source": [
    "rawData.columns"
   ]
  },
  {
   "cell_type": "code",
   "execution_count": 7,
   "metadata": {},
   "outputs": [
    {
     "data": {
      "text/plain": [
       "Investing\n",
       "Yes    128\n",
       "No      42\n",
       "Name: count, dtype: int64"
      ]
     },
     "execution_count": 7,
     "metadata": {},
     "output_type": "execute_result"
    }
   ],
   "source": [
    "# #people who do not invest\n",
    "\n",
    "investmentCounts = rawData[\"Investing\"].value_counts()\n",
    "investmentCounts\n"
   ]
  },
  {
   "cell_type": "code",
   "execution_count": 8,
   "metadata": {},
   "outputs": [
    {
     "name": "stdout",
     "output_type": "stream",
     "text": [
      "Total contradictions found: 2\n"
     ]
    },
    {
     "data": {
      "text/html": [
       "<div>\n",
       "<style scoped>\n",
       "    .dataframe tbody tr th:only-of-type {\n",
       "        vertical-align: middle;\n",
       "    }\n",
       "\n",
       "    .dataframe tbody tr th {\n",
       "        vertical-align: top;\n",
       "    }\n",
       "\n",
       "    .dataframe thead th {\n",
       "        text-align: right;\n",
       "    }\n",
       "</style>\n",
       "<table border=\"1\" class=\"dataframe\">\n",
       "  <thead>\n",
       "    <tr style=\"text-align: right;\">\n",
       "      <th></th>\n",
       "      <th>Timestamp</th>\n",
       "      <th>Age (Complete)</th>\n",
       "      <th>Gender</th>\n",
       "      <th>Are you employed</th>\n",
       "      <th>Investing</th>\n",
       "      <th>Area of Investment</th>\n",
       "      <th>ESOPs</th>\n",
       "      <th>Work city</th>\n",
       "      <th>Hometown</th>\n",
       "    </tr>\n",
       "  </thead>\n",
       "  <tbody>\n",
       "    <tr>\n",
       "      <th>97</th>\n",
       "      <td>4/2/2024 13:39:40</td>\n",
       "      <td>32</td>\n",
       "      <td>Male</td>\n",
       "      <td>No</td>\n",
       "      <td>No</td>\n",
       "      <td>Stocks</td>\n",
       "      <td>No</td>\n",
       "      <td>Berlin, India</td>\n",
       "      <td>Coimbra, Portugal</td>\n",
       "    </tr>\n",
       "    <tr>\n",
       "      <th>157</th>\n",
       "      <td>4/3/2024 12:42:33</td>\n",
       "      <td>53</td>\n",
       "      <td>Female</td>\n",
       "      <td>No</td>\n",
       "      <td>No</td>\n",
       "      <td>Stocks</td>\n",
       "      <td>Yes</td>\n",
       "      <td>Nagpur, Maharashtra India</td>\n",
       "      <td>Nagpur, Maharashtra, India</td>\n",
       "    </tr>\n",
       "  </tbody>\n",
       "</table>\n",
       "</div>"
      ],
      "text/plain": [
       "             Timestamp Age (Complete)  Gender Are you employed Investing  \\\n",
       "97   4/2/2024 13:39:40             32    Male               No        No   \n",
       "157  4/3/2024 12:42:33             53  Female               No        No   \n",
       "\n",
       "    Area of Investment ESOPs                   Work city  \\\n",
       "97              Stocks    No               Berlin, India   \n",
       "157             Stocks   Yes  Nagpur, Maharashtra India    \n",
       "\n",
       "                        Hometown  \n",
       "97             Coimbra, Portugal  \n",
       "157  Nagpur, Maharashtra, India   "
      ]
     },
     "execution_count": 8,
     "metadata": {},
     "output_type": "execute_result"
    }
   ],
   "source": [
    "#but we will check if there are unemployed people who have selected No for investing and still have answered the areas where they invest money\n",
    "#here we get the contracdictions\n",
    "contradictions = rawData[\n",
    "    ((rawData[\"Investing\"] == \"No\") & (rawData[\"Area of Investment\"]!=\"I do not invest\" ) & (rawData[\"Are you employed\"]==\"No\"))\n",
    "]\n",
    "\n",
    "print(f\"Total contradictions found: {len(contradictions)}\")\n",
    "contradictions\n"
   ]
  },
  {
   "cell_type": "code",
   "execution_count": 9,
   "metadata": {},
   "outputs": [
    {
     "data": {
      "text/html": [
       "<div>\n",
       "<style scoped>\n",
       "    .dataframe tbody tr th:only-of-type {\n",
       "        vertical-align: middle;\n",
       "    }\n",
       "\n",
       "    .dataframe tbody tr th {\n",
       "        vertical-align: top;\n",
       "    }\n",
       "\n",
       "    .dataframe thead th {\n",
       "        text-align: right;\n",
       "    }\n",
       "</style>\n",
       "<table border=\"1\" class=\"dataframe\">\n",
       "  <thead>\n",
       "    <tr style=\"text-align: right;\">\n",
       "      <th></th>\n",
       "      <th>Timestamp</th>\n",
       "      <th>Age (Complete)</th>\n",
       "      <th>Gender</th>\n",
       "      <th>Are you employed</th>\n",
       "      <th>Investing</th>\n",
       "      <th>Area of Investment</th>\n",
       "      <th>ESOPs</th>\n",
       "      <th>Work city</th>\n",
       "      <th>Hometown</th>\n",
       "    </tr>\n",
       "  </thead>\n",
       "  <tbody>\n",
       "    <tr>\n",
       "      <th>97</th>\n",
       "      <td>4/2/2024 13:39:40</td>\n",
       "      <td>32</td>\n",
       "      <td>Male</td>\n",
       "      <td>No</td>\n",
       "      <td>No</td>\n",
       "      <td>Stocks</td>\n",
       "      <td>No</td>\n",
       "      <td>Berlin, India</td>\n",
       "      <td>Coimbra, Portugal</td>\n",
       "    </tr>\n",
       "  </tbody>\n",
       "</table>\n",
       "</div>"
      ],
      "text/plain": [
       "            Timestamp Age (Complete) Gender Are you employed Investing  \\\n",
       "97  4/2/2024 13:39:40             32   Male               No        No   \n",
       "\n",
       "   Area of Investment ESOPs      Work city           Hometown  \n",
       "97             Stocks    No  Berlin, India  Coimbra, Portugal  "
      ]
     },
     "execution_count": 9,
     "metadata": {},
     "output_type": "execute_result"
    }
   ],
   "source": [
    "#here this 32 yo male has written work city as \"Berlin, India\" - this is wrong and needs to be removed\n",
    "wrongEntries = rawData[rawData[\"Work city\"] == \"Berlin, India\"]\n",
    "wrongEntries\n"
   ]
  },
  {
   "cell_type": "code",
   "execution_count": 10,
   "metadata": {},
   "outputs": [],
   "source": [
    "rawData = rawData.drop(wrongEntries.index)"
   ]
  },
  {
   "cell_type": "code",
   "execution_count": 11,
   "metadata": {},
   "outputs": [
    {
     "name": "stdout",
     "output_type": "stream",
     "text": [
      "Entries left with 'Berlin, India': 0\n"
     ]
    }
   ],
   "source": [
    "#checkingthe removal of wrong data\n",
    "print(f\"Entries left with 'Berlin, India': {len(rawData[rawData['Work city'] == 'Berlin, India'])}\")\n"
   ]
  },
  {
   "cell_type": "code",
   "execution_count": 12,
   "metadata": {},
   "outputs": [
    {
     "data": {
      "text/html": [
       "<div>\n",
       "<style scoped>\n",
       "    .dataframe tbody tr th:only-of-type {\n",
       "        vertical-align: middle;\n",
       "    }\n",
       "\n",
       "    .dataframe tbody tr th {\n",
       "        vertical-align: top;\n",
       "    }\n",
       "\n",
       "    .dataframe thead th {\n",
       "        text-align: right;\n",
       "    }\n",
       "</style>\n",
       "<table border=\"1\" class=\"dataframe\">\n",
       "  <thead>\n",
       "    <tr style=\"text-align: right;\">\n",
       "      <th></th>\n",
       "      <th>Timestamp</th>\n",
       "      <th>Age (Complete)</th>\n",
       "      <th>Gender</th>\n",
       "      <th>Are you employed</th>\n",
       "      <th>Investing</th>\n",
       "      <th>Area of Investment</th>\n",
       "      <th>ESOPs</th>\n",
       "      <th>Work city</th>\n",
       "      <th>Hometown</th>\n",
       "    </tr>\n",
       "  </thead>\n",
       "  <tbody>\n",
       "    <tr>\n",
       "      <th>4</th>\n",
       "      <td>3/31/2024 16:34:29</td>\n",
       "      <td>26</td>\n",
       "      <td>Male</td>\n",
       "      <td>Yes</td>\n",
       "      <td>No</td>\n",
       "      <td>Stocks, Mutual Fund, Real Estate, Gold/Silver/...</td>\n",
       "      <td>No</td>\n",
       "      <td>Nagpur</td>\n",
       "      <td>Nagpur</td>\n",
       "    </tr>\n",
       "    <tr>\n",
       "      <th>11</th>\n",
       "      <td>3/31/2024 16:47:21</td>\n",
       "      <td>26</td>\n",
       "      <td>Male</td>\n",
       "      <td>Yes</td>\n",
       "      <td>No</td>\n",
       "      <td>Mutual Fund, Fixed Deposit</td>\n",
       "      <td>Yes</td>\n",
       "      <td>Chennai, Tamil Nadu, India</td>\n",
       "      <td>Nagpur, Maharashtra</td>\n",
       "    </tr>\n",
       "    <tr>\n",
       "      <th>62</th>\n",
       "      <td>4/1/2024 10:28:48</td>\n",
       "      <td>24</td>\n",
       "      <td>Female</td>\n",
       "      <td>Yes</td>\n",
       "      <td>No</td>\n",
       "      <td>Stocks</td>\n",
       "      <td>No</td>\n",
       "      <td>Nagpur</td>\n",
       "      <td>Ramakona</td>\n",
       "    </tr>\n",
       "    <tr>\n",
       "      <th>65</th>\n",
       "      <td>4/1/2024 11:20:03</td>\n",
       "      <td>26</td>\n",
       "      <td>Female</td>\n",
       "      <td>Yes</td>\n",
       "      <td>No</td>\n",
       "      <td>Gold/Silver/Platinum, Fixed Deposit</td>\n",
       "      <td>No</td>\n",
       "      <td>Pune, Maharashtra, India</td>\n",
       "      <td>Nagpur, Maharashtra, India</td>\n",
       "    </tr>\n",
       "    <tr>\n",
       "      <th>77</th>\n",
       "      <td>4/1/2024 22:43:34</td>\n",
       "      <td>27</td>\n",
       "      <td>Male</td>\n",
       "      <td>Yes</td>\n",
       "      <td>No</td>\n",
       "      <td>Stocks</td>\n",
       "      <td>No</td>\n",
       "      <td>Gurugram</td>\n",
       "      <td>Nagpur</td>\n",
       "    </tr>\n",
       "    <tr>\n",
       "      <th>84</th>\n",
       "      <td>4/1/2024 23:11:14</td>\n",
       "      <td>27</td>\n",
       "      <td>Male</td>\n",
       "      <td>Yes</td>\n",
       "      <td>No</td>\n",
       "      <td>Mutual Fund</td>\n",
       "      <td>No</td>\n",
       "      <td>Pune</td>\n",
       "      <td>Ahmednagar</td>\n",
       "    </tr>\n",
       "    <tr>\n",
       "      <th>87</th>\n",
       "      <td>4/2/2024 10:04:45</td>\n",
       "      <td>27</td>\n",
       "      <td>Male</td>\n",
       "      <td>Yes</td>\n",
       "      <td>No</td>\n",
       "      <td>Stocks, Mutual Fund, Gold/Silver/Platinum, Bonds</td>\n",
       "      <td>No</td>\n",
       "      <td>Bengaluru, Karnataka, India</td>\n",
       "      <td>Nagpur, Maharashtra, India</td>\n",
       "    </tr>\n",
       "    <tr>\n",
       "      <th>115</th>\n",
       "      <td>4/2/2024 17:40:11</td>\n",
       "      <td>22</td>\n",
       "      <td>Male</td>\n",
       "      <td>Yes</td>\n",
       "      <td>No</td>\n",
       "      <td>Stocks, Mutual Fund, Fixed Deposit</td>\n",
       "      <td>No</td>\n",
       "      <td>Nagpur</td>\n",
       "      <td>Nagpur</td>\n",
       "    </tr>\n",
       "    <tr>\n",
       "      <th>128</th>\n",
       "      <td>4/2/2024 20:20:28</td>\n",
       "      <td>27</td>\n",
       "      <td>Female</td>\n",
       "      <td>Yes</td>\n",
       "      <td>No</td>\n",
       "      <td>Fixed Deposit, National Pensions System, I do ...</td>\n",
       "      <td>No</td>\n",
       "      <td>Mumbai</td>\n",
       "      <td>Nagpur</td>\n",
       "    </tr>\n",
       "    <tr>\n",
       "      <th>132</th>\n",
       "      <td>4/2/2024 20:47:17</td>\n",
       "      <td>26</td>\n",
       "      <td>Female</td>\n",
       "      <td>Yes</td>\n",
       "      <td>No</td>\n",
       "      <td>Stocks, Mutual Fund, Fixed Deposit, Public Pro...</td>\n",
       "      <td>No</td>\n",
       "      <td>Nagpur, Maharashtra, India</td>\n",
       "      <td>Pulgaon, Maharashtra, India</td>\n",
       "    </tr>\n",
       "    <tr>\n",
       "      <th>150</th>\n",
       "      <td>4/3/2024 7:19:23</td>\n",
       "      <td>26</td>\n",
       "      <td>Male</td>\n",
       "      <td>Yes</td>\n",
       "      <td>No</td>\n",
       "      <td>Stocks, Mutual Fund, Gold/Silver/Platinum, Bon...</td>\n",
       "      <td>No</td>\n",
       "      <td>Hyderabad</td>\n",
       "      <td>Nagpur</td>\n",
       "    </tr>\n",
       "    <tr>\n",
       "      <th>157</th>\n",
       "      <td>4/3/2024 12:42:33</td>\n",
       "      <td>53</td>\n",
       "      <td>Female</td>\n",
       "      <td>No</td>\n",
       "      <td>No</td>\n",
       "      <td>Stocks</td>\n",
       "      <td>Yes</td>\n",
       "      <td>Nagpur, Maharashtra India</td>\n",
       "      <td>Nagpur, Maharashtra, India</td>\n",
       "    </tr>\n",
       "  </tbody>\n",
       "</table>\n",
       "</div>"
      ],
      "text/plain": [
       "              Timestamp Age (Complete)  Gender Are you employed Investing  \\\n",
       "4    3/31/2024 16:34:29             26    Male              Yes        No   \n",
       "11   3/31/2024 16:47:21             26    Male              Yes        No   \n",
       "62    4/1/2024 10:28:48             24  Female              Yes        No   \n",
       "65    4/1/2024 11:20:03             26  Female              Yes        No   \n",
       "77    4/1/2024 22:43:34             27    Male              Yes        No   \n",
       "84    4/1/2024 23:11:14             27    Male              Yes        No   \n",
       "87    4/2/2024 10:04:45             27    Male              Yes        No   \n",
       "115   4/2/2024 17:40:11             22    Male              Yes        No   \n",
       "128   4/2/2024 20:20:28             27  Female              Yes        No   \n",
       "132   4/2/2024 20:47:17             26  Female              Yes        No   \n",
       "150    4/3/2024 7:19:23             26    Male              Yes        No   \n",
       "157   4/3/2024 12:42:33             53  Female               No        No   \n",
       "\n",
       "                                    Area of Investment ESOPs  \\\n",
       "4    Stocks, Mutual Fund, Real Estate, Gold/Silver/...    No   \n",
       "11                          Mutual Fund, Fixed Deposit   Yes   \n",
       "62                                              Stocks    No   \n",
       "65                 Gold/Silver/Platinum, Fixed Deposit    No   \n",
       "77                                              Stocks    No   \n",
       "84                                         Mutual Fund    No   \n",
       "87    Stocks, Mutual Fund, Gold/Silver/Platinum, Bonds    No   \n",
       "115                 Stocks, Mutual Fund, Fixed Deposit    No   \n",
       "128  Fixed Deposit, National Pensions System, I do ...    No   \n",
       "132  Stocks, Mutual Fund, Fixed Deposit, Public Pro...    No   \n",
       "150  Stocks, Mutual Fund, Gold/Silver/Platinum, Bon...    No   \n",
       "157                                             Stocks   Yes   \n",
       "\n",
       "                       Work city                      Hometown  \n",
       "4                         Nagpur                       Nagpur   \n",
       "11   Chennai, Tamil Nadu, India           Nagpur, Maharashtra   \n",
       "62                        Nagpur                     Ramakona   \n",
       "65      Pune, Maharashtra, India    Nagpur, Maharashtra, India  \n",
       "77                      Gurugram                        Nagpur  \n",
       "84                         Pune                    Ahmednagar   \n",
       "87   Bengaluru, Karnataka, India    Nagpur, Maharashtra, India  \n",
       "115                       Nagpur                        Nagpur  \n",
       "128                       Mumbai                       Nagpur   \n",
       "132  Nagpur, Maharashtra, India   Pulgaon, Maharashtra, India   \n",
       "150                   Hyderabad                         Nagpur  \n",
       "157   Nagpur, Maharashtra India    Nagpur, Maharashtra, India   "
      ]
     },
     "execution_count": 12,
     "metadata": {},
     "output_type": "execute_result"
    }
   ],
   "source": [
    "# Case 1: Investing is \"No\" but \"Area of Investment\" is NOT \"I do not invest\"\n",
    "contradictions1 = rawData[\n",
    "    (rawData[\"Investing\"] == \"No\") & \n",
    "    (rawData[\"Area of Investment\"] != \"I do not invest\")\n",
    "]\n",
    "contradictions1"
   ]
  },
  {
   "cell_type": "code",
   "execution_count": 13,
   "metadata": {},
   "outputs": [
    {
     "name": "stdout",
     "output_type": "stream",
     "text": [
      "Total new contradictions found: 1\n"
     ]
    },
    {
     "data": {
      "text/html": [
       "<div>\n",
       "<style scoped>\n",
       "    .dataframe tbody tr th:only-of-type {\n",
       "        vertical-align: middle;\n",
       "    }\n",
       "\n",
       "    .dataframe tbody tr th {\n",
       "        vertical-align: top;\n",
       "    }\n",
       "\n",
       "    .dataframe thead th {\n",
       "        text-align: right;\n",
       "    }\n",
       "</style>\n",
       "<table border=\"1\" class=\"dataframe\">\n",
       "  <thead>\n",
       "    <tr style=\"text-align: right;\">\n",
       "      <th></th>\n",
       "      <th>Timestamp</th>\n",
       "      <th>Age (Complete)</th>\n",
       "      <th>Gender</th>\n",
       "      <th>Are you employed</th>\n",
       "      <th>Investing</th>\n",
       "      <th>Area of Investment</th>\n",
       "      <th>ESOPs</th>\n",
       "      <th>Work city</th>\n",
       "      <th>Hometown</th>\n",
       "    </tr>\n",
       "  </thead>\n",
       "  <tbody>\n",
       "    <tr>\n",
       "      <th>128</th>\n",
       "      <td>4/2/2024 20:20:28</td>\n",
       "      <td>27</td>\n",
       "      <td>Female</td>\n",
       "      <td>Yes</td>\n",
       "      <td>No</td>\n",
       "      <td>Fixed Deposit, National Pensions System, I do ...</td>\n",
       "      <td>No</td>\n",
       "      <td>Mumbai</td>\n",
       "      <td>Nagpur</td>\n",
       "    </tr>\n",
       "  </tbody>\n",
       "</table>\n",
       "</div>"
      ],
      "text/plain": [
       "             Timestamp Age (Complete)  Gender Are you employed Investing  \\\n",
       "128  4/2/2024 20:20:28             27  Female              Yes        No   \n",
       "\n",
       "                                    Area of Investment ESOPs Work city  \\\n",
       "128  Fixed Deposit, National Pensions System, I do ...    No    Mumbai   \n",
       "\n",
       "    Hometown  \n",
       "128  Nagpur   "
      ]
     },
     "execution_count": 13,
     "metadata": {},
     "output_type": "execute_result"
    }
   ],
   "source": [
    "# we will see if they have selected other values with \"I do not invest\" in areas of investment\n",
    "contradictions2 = contradictions1[\n",
    "    (contradictions1[\"Area of Investment\"].str.contains(\",\", na=False)) &  # Multiple values present\n",
    "    (contradictions1[\"Area of Investment\"].str.contains(\"I do not invest\", case=False, na=False))  # Includes 'I do not invest'\n",
    "]\n",
    "\n",
    "print(f\"Total new contradictions found: {len(contradictions2)}\")\n",
    "contradictions2"
   ]
  },
  {
   "cell_type": "code",
   "execution_count": 14,
   "metadata": {},
   "outputs": [],
   "source": [
    "#removing this from original data\n",
    "rawData = rawData.drop(contradictions2.index)\n"
   ]
  },
  {
   "cell_type": "code",
   "execution_count": 15,
   "metadata": {},
   "outputs": [
    {
     "data": {
      "text/html": [
       "<div>\n",
       "<style scoped>\n",
       "    .dataframe tbody tr th:only-of-type {\n",
       "        vertical-align: middle;\n",
       "    }\n",
       "\n",
       "    .dataframe tbody tr th {\n",
       "        vertical-align: top;\n",
       "    }\n",
       "\n",
       "    .dataframe thead th {\n",
       "        text-align: right;\n",
       "    }\n",
       "</style>\n",
       "<table border=\"1\" class=\"dataframe\">\n",
       "  <thead>\n",
       "    <tr style=\"text-align: right;\">\n",
       "      <th></th>\n",
       "      <th>Timestamp</th>\n",
       "      <th>Age (Complete)</th>\n",
       "      <th>Gender</th>\n",
       "      <th>Are you employed</th>\n",
       "      <th>Investing</th>\n",
       "      <th>Area of Investment</th>\n",
       "      <th>ESOPs</th>\n",
       "      <th>Work city</th>\n",
       "      <th>Hometown</th>\n",
       "    </tr>\n",
       "  </thead>\n",
       "  <tbody>\n",
       "    <tr>\n",
       "      <th>4</th>\n",
       "      <td>3/31/2024 16:34:29</td>\n",
       "      <td>26</td>\n",
       "      <td>Male</td>\n",
       "      <td>Yes</td>\n",
       "      <td>No</td>\n",
       "      <td>Stocks, Mutual Fund, Real Estate, Gold/Silver/...</td>\n",
       "      <td>No</td>\n",
       "      <td>Nagpur</td>\n",
       "      <td>Nagpur</td>\n",
       "    </tr>\n",
       "    <tr>\n",
       "      <th>11</th>\n",
       "      <td>3/31/2024 16:47:21</td>\n",
       "      <td>26</td>\n",
       "      <td>Male</td>\n",
       "      <td>Yes</td>\n",
       "      <td>No</td>\n",
       "      <td>Mutual Fund, Fixed Deposit</td>\n",
       "      <td>Yes</td>\n",
       "      <td>Chennai, Tamil Nadu, India</td>\n",
       "      <td>Nagpur, Maharashtra</td>\n",
       "    </tr>\n",
       "    <tr>\n",
       "      <th>62</th>\n",
       "      <td>4/1/2024 10:28:48</td>\n",
       "      <td>24</td>\n",
       "      <td>Female</td>\n",
       "      <td>Yes</td>\n",
       "      <td>No</td>\n",
       "      <td>Stocks</td>\n",
       "      <td>No</td>\n",
       "      <td>Nagpur</td>\n",
       "      <td>Ramakona</td>\n",
       "    </tr>\n",
       "    <tr>\n",
       "      <th>65</th>\n",
       "      <td>4/1/2024 11:20:03</td>\n",
       "      <td>26</td>\n",
       "      <td>Female</td>\n",
       "      <td>Yes</td>\n",
       "      <td>No</td>\n",
       "      <td>Gold/Silver/Platinum, Fixed Deposit</td>\n",
       "      <td>No</td>\n",
       "      <td>Pune, Maharashtra, India</td>\n",
       "      <td>Nagpur, Maharashtra, India</td>\n",
       "    </tr>\n",
       "    <tr>\n",
       "      <th>77</th>\n",
       "      <td>4/1/2024 22:43:34</td>\n",
       "      <td>27</td>\n",
       "      <td>Male</td>\n",
       "      <td>Yes</td>\n",
       "      <td>No</td>\n",
       "      <td>Stocks</td>\n",
       "      <td>No</td>\n",
       "      <td>Gurugram</td>\n",
       "      <td>Nagpur</td>\n",
       "    </tr>\n",
       "    <tr>\n",
       "      <th>84</th>\n",
       "      <td>4/1/2024 23:11:14</td>\n",
       "      <td>27</td>\n",
       "      <td>Male</td>\n",
       "      <td>Yes</td>\n",
       "      <td>No</td>\n",
       "      <td>Mutual Fund</td>\n",
       "      <td>No</td>\n",
       "      <td>Pune</td>\n",
       "      <td>Ahmednagar</td>\n",
       "    </tr>\n",
       "    <tr>\n",
       "      <th>87</th>\n",
       "      <td>4/2/2024 10:04:45</td>\n",
       "      <td>27</td>\n",
       "      <td>Male</td>\n",
       "      <td>Yes</td>\n",
       "      <td>No</td>\n",
       "      <td>Stocks, Mutual Fund, Gold/Silver/Platinum, Bonds</td>\n",
       "      <td>No</td>\n",
       "      <td>Bengaluru, Karnataka, India</td>\n",
       "      <td>Nagpur, Maharashtra, India</td>\n",
       "    </tr>\n",
       "    <tr>\n",
       "      <th>115</th>\n",
       "      <td>4/2/2024 17:40:11</td>\n",
       "      <td>22</td>\n",
       "      <td>Male</td>\n",
       "      <td>Yes</td>\n",
       "      <td>No</td>\n",
       "      <td>Stocks, Mutual Fund, Fixed Deposit</td>\n",
       "      <td>No</td>\n",
       "      <td>Nagpur</td>\n",
       "      <td>Nagpur</td>\n",
       "    </tr>\n",
       "    <tr>\n",
       "      <th>132</th>\n",
       "      <td>4/2/2024 20:47:17</td>\n",
       "      <td>26</td>\n",
       "      <td>Female</td>\n",
       "      <td>Yes</td>\n",
       "      <td>No</td>\n",
       "      <td>Stocks, Mutual Fund, Fixed Deposit, Public Pro...</td>\n",
       "      <td>No</td>\n",
       "      <td>Nagpur, Maharashtra, India</td>\n",
       "      <td>Pulgaon, Maharashtra, India</td>\n",
       "    </tr>\n",
       "    <tr>\n",
       "      <th>150</th>\n",
       "      <td>4/3/2024 7:19:23</td>\n",
       "      <td>26</td>\n",
       "      <td>Male</td>\n",
       "      <td>Yes</td>\n",
       "      <td>No</td>\n",
       "      <td>Stocks, Mutual Fund, Gold/Silver/Platinum, Bon...</td>\n",
       "      <td>No</td>\n",
       "      <td>Hyderabad</td>\n",
       "      <td>Nagpur</td>\n",
       "    </tr>\n",
       "    <tr>\n",
       "      <th>157</th>\n",
       "      <td>4/3/2024 12:42:33</td>\n",
       "      <td>53</td>\n",
       "      <td>Female</td>\n",
       "      <td>No</td>\n",
       "      <td>No</td>\n",
       "      <td>Stocks</td>\n",
       "      <td>Yes</td>\n",
       "      <td>Nagpur, Maharashtra India</td>\n",
       "      <td>Nagpur, Maharashtra, India</td>\n",
       "    </tr>\n",
       "  </tbody>\n",
       "</table>\n",
       "</div>"
      ],
      "text/plain": [
       "              Timestamp Age (Complete)  Gender Are you employed Investing  \\\n",
       "4    3/31/2024 16:34:29             26    Male              Yes        No   \n",
       "11   3/31/2024 16:47:21             26    Male              Yes        No   \n",
       "62    4/1/2024 10:28:48             24  Female              Yes        No   \n",
       "65    4/1/2024 11:20:03             26  Female              Yes        No   \n",
       "77    4/1/2024 22:43:34             27    Male              Yes        No   \n",
       "84    4/1/2024 23:11:14             27    Male              Yes        No   \n",
       "87    4/2/2024 10:04:45             27    Male              Yes        No   \n",
       "115   4/2/2024 17:40:11             22    Male              Yes        No   \n",
       "132   4/2/2024 20:47:17             26  Female              Yes        No   \n",
       "150    4/3/2024 7:19:23             26    Male              Yes        No   \n",
       "157   4/3/2024 12:42:33             53  Female               No        No   \n",
       "\n",
       "                                    Area of Investment ESOPs  \\\n",
       "4    Stocks, Mutual Fund, Real Estate, Gold/Silver/...    No   \n",
       "11                          Mutual Fund, Fixed Deposit   Yes   \n",
       "62                                              Stocks    No   \n",
       "65                 Gold/Silver/Platinum, Fixed Deposit    No   \n",
       "77                                              Stocks    No   \n",
       "84                                         Mutual Fund    No   \n",
       "87    Stocks, Mutual Fund, Gold/Silver/Platinum, Bonds    No   \n",
       "115                 Stocks, Mutual Fund, Fixed Deposit    No   \n",
       "132  Stocks, Mutual Fund, Fixed Deposit, Public Pro...    No   \n",
       "150  Stocks, Mutual Fund, Gold/Silver/Platinum, Bon...    No   \n",
       "157                                             Stocks   Yes   \n",
       "\n",
       "                       Work city                      Hometown  \n",
       "4                         Nagpur                       Nagpur   \n",
       "11   Chennai, Tamil Nadu, India           Nagpur, Maharashtra   \n",
       "62                        Nagpur                     Ramakona   \n",
       "65      Pune, Maharashtra, India    Nagpur, Maharashtra, India  \n",
       "77                      Gurugram                        Nagpur  \n",
       "84                         Pune                    Ahmednagar   \n",
       "87   Bengaluru, Karnataka, India    Nagpur, Maharashtra, India  \n",
       "115                       Nagpur                        Nagpur  \n",
       "132  Nagpur, Maharashtra, India   Pulgaon, Maharashtra, India   \n",
       "150                   Hyderabad                         Nagpur  \n",
       "157   Nagpur, Maharashtra India    Nagpur, Maharashtra, India   "
      ]
     },
     "execution_count": 15,
     "metadata": {},
     "output_type": "execute_result"
    }
   ],
   "source": [
    "#now let us check for contradictions1 again\n",
    "\n",
    "contradictions1 = rawData[\n",
    "    (rawData[\"Investing\"] == \"No\") & \n",
    "    (rawData[\"Area of Investment\"] != \"I do not invest\")\n",
    "]\n",
    "contradictions1"
   ]
  },
  {
   "cell_type": "code",
   "execution_count": 16,
   "metadata": {},
   "outputs": [],
   "source": [
    "#people who are not employed but have esops = contradictions3 -> to be removed\n",
    "contradictions3 = rawData[\n",
    "    (rawData[\"Are you employed\"] == \"No\") & \n",
    "    (rawData[\"ESOPs\"] == \"Yes\") & \n",
    "    (rawData[\"Area of Investment\"].str.contains(\"stock\", case=False, na=False))\n",
    "]\n",
    "\n",
    "rawData = rawData.drop(contradictions3.index)"
   ]
  },
  {
   "cell_type": "code",
   "execution_count": 17,
   "metadata": {},
   "outputs": [
    {
     "name": "stdout",
     "output_type": "stream",
     "text": [
      "Total contradictions found: 10\n"
     ]
    },
    {
     "data": {
      "text/html": [
       "<div>\n",
       "<style scoped>\n",
       "    .dataframe tbody tr th:only-of-type {\n",
       "        vertical-align: middle;\n",
       "    }\n",
       "\n",
       "    .dataframe tbody tr th {\n",
       "        vertical-align: top;\n",
       "    }\n",
       "\n",
       "    .dataframe thead th {\n",
       "        text-align: right;\n",
       "    }\n",
       "</style>\n",
       "<table border=\"1\" class=\"dataframe\">\n",
       "  <thead>\n",
       "    <tr style=\"text-align: right;\">\n",
       "      <th></th>\n",
       "      <th>Timestamp</th>\n",
       "      <th>Age (Complete)</th>\n",
       "      <th>Gender</th>\n",
       "      <th>Are you employed</th>\n",
       "      <th>Investing</th>\n",
       "      <th>Area of Investment</th>\n",
       "      <th>ESOPs</th>\n",
       "      <th>Work city</th>\n",
       "      <th>Hometown</th>\n",
       "    </tr>\n",
       "  </thead>\n",
       "  <tbody>\n",
       "    <tr>\n",
       "      <th>4</th>\n",
       "      <td>3/31/2024 16:34:29</td>\n",
       "      <td>26</td>\n",
       "      <td>Male</td>\n",
       "      <td>Yes</td>\n",
       "      <td>No</td>\n",
       "      <td>Stocks, Mutual Fund, Real Estate, Gold/Silver/...</td>\n",
       "      <td>No</td>\n",
       "      <td>Nagpur</td>\n",
       "      <td>Nagpur</td>\n",
       "    </tr>\n",
       "    <tr>\n",
       "      <th>11</th>\n",
       "      <td>3/31/2024 16:47:21</td>\n",
       "      <td>26</td>\n",
       "      <td>Male</td>\n",
       "      <td>Yes</td>\n",
       "      <td>No</td>\n",
       "      <td>Mutual Fund, Fixed Deposit</td>\n",
       "      <td>Yes</td>\n",
       "      <td>Chennai, Tamil Nadu, India</td>\n",
       "      <td>Nagpur, Maharashtra</td>\n",
       "    </tr>\n",
       "    <tr>\n",
       "      <th>62</th>\n",
       "      <td>4/1/2024 10:28:48</td>\n",
       "      <td>24</td>\n",
       "      <td>Female</td>\n",
       "      <td>Yes</td>\n",
       "      <td>No</td>\n",
       "      <td>Stocks</td>\n",
       "      <td>No</td>\n",
       "      <td>Nagpur</td>\n",
       "      <td>Ramakona</td>\n",
       "    </tr>\n",
       "    <tr>\n",
       "      <th>65</th>\n",
       "      <td>4/1/2024 11:20:03</td>\n",
       "      <td>26</td>\n",
       "      <td>Female</td>\n",
       "      <td>Yes</td>\n",
       "      <td>No</td>\n",
       "      <td>Gold/Silver/Platinum, Fixed Deposit</td>\n",
       "      <td>No</td>\n",
       "      <td>Pune, Maharashtra, India</td>\n",
       "      <td>Nagpur, Maharashtra, India</td>\n",
       "    </tr>\n",
       "    <tr>\n",
       "      <th>77</th>\n",
       "      <td>4/1/2024 22:43:34</td>\n",
       "      <td>27</td>\n",
       "      <td>Male</td>\n",
       "      <td>Yes</td>\n",
       "      <td>No</td>\n",
       "      <td>Stocks</td>\n",
       "      <td>No</td>\n",
       "      <td>Gurugram</td>\n",
       "      <td>Nagpur</td>\n",
       "    </tr>\n",
       "    <tr>\n",
       "      <th>84</th>\n",
       "      <td>4/1/2024 23:11:14</td>\n",
       "      <td>27</td>\n",
       "      <td>Male</td>\n",
       "      <td>Yes</td>\n",
       "      <td>No</td>\n",
       "      <td>Mutual Fund</td>\n",
       "      <td>No</td>\n",
       "      <td>Pune</td>\n",
       "      <td>Ahmednagar</td>\n",
       "    </tr>\n",
       "    <tr>\n",
       "      <th>87</th>\n",
       "      <td>4/2/2024 10:04:45</td>\n",
       "      <td>27</td>\n",
       "      <td>Male</td>\n",
       "      <td>Yes</td>\n",
       "      <td>No</td>\n",
       "      <td>Stocks, Mutual Fund, Gold/Silver/Platinum, Bonds</td>\n",
       "      <td>No</td>\n",
       "      <td>Bengaluru, Karnataka, India</td>\n",
       "      <td>Nagpur, Maharashtra, India</td>\n",
       "    </tr>\n",
       "    <tr>\n",
       "      <th>115</th>\n",
       "      <td>4/2/2024 17:40:11</td>\n",
       "      <td>22</td>\n",
       "      <td>Male</td>\n",
       "      <td>Yes</td>\n",
       "      <td>No</td>\n",
       "      <td>Stocks, Mutual Fund, Fixed Deposit</td>\n",
       "      <td>No</td>\n",
       "      <td>Nagpur</td>\n",
       "      <td>Nagpur</td>\n",
       "    </tr>\n",
       "    <tr>\n",
       "      <th>132</th>\n",
       "      <td>4/2/2024 20:47:17</td>\n",
       "      <td>26</td>\n",
       "      <td>Female</td>\n",
       "      <td>Yes</td>\n",
       "      <td>No</td>\n",
       "      <td>Stocks, Mutual Fund, Fixed Deposit, Public Pro...</td>\n",
       "      <td>No</td>\n",
       "      <td>Nagpur, Maharashtra, India</td>\n",
       "      <td>Pulgaon, Maharashtra, India</td>\n",
       "    </tr>\n",
       "    <tr>\n",
       "      <th>150</th>\n",
       "      <td>4/3/2024 7:19:23</td>\n",
       "      <td>26</td>\n",
       "      <td>Male</td>\n",
       "      <td>Yes</td>\n",
       "      <td>No</td>\n",
       "      <td>Stocks, Mutual Fund, Gold/Silver/Platinum, Bon...</td>\n",
       "      <td>No</td>\n",
       "      <td>Hyderabad</td>\n",
       "      <td>Nagpur</td>\n",
       "    </tr>\n",
       "  </tbody>\n",
       "</table>\n",
       "</div>"
      ],
      "text/plain": [
       "              Timestamp Age (Complete)  Gender Are you employed Investing  \\\n",
       "4    3/31/2024 16:34:29             26    Male              Yes        No   \n",
       "11   3/31/2024 16:47:21             26    Male              Yes        No   \n",
       "62    4/1/2024 10:28:48             24  Female              Yes        No   \n",
       "65    4/1/2024 11:20:03             26  Female              Yes        No   \n",
       "77    4/1/2024 22:43:34             27    Male              Yes        No   \n",
       "84    4/1/2024 23:11:14             27    Male              Yes        No   \n",
       "87    4/2/2024 10:04:45             27    Male              Yes        No   \n",
       "115   4/2/2024 17:40:11             22    Male              Yes        No   \n",
       "132   4/2/2024 20:47:17             26  Female              Yes        No   \n",
       "150    4/3/2024 7:19:23             26    Male              Yes        No   \n",
       "\n",
       "                                    Area of Investment ESOPs  \\\n",
       "4    Stocks, Mutual Fund, Real Estate, Gold/Silver/...    No   \n",
       "11                          Mutual Fund, Fixed Deposit   Yes   \n",
       "62                                              Stocks    No   \n",
       "65                 Gold/Silver/Platinum, Fixed Deposit    No   \n",
       "77                                              Stocks    No   \n",
       "84                                         Mutual Fund    No   \n",
       "87    Stocks, Mutual Fund, Gold/Silver/Platinum, Bonds    No   \n",
       "115                 Stocks, Mutual Fund, Fixed Deposit    No   \n",
       "132  Stocks, Mutual Fund, Fixed Deposit, Public Pro...    No   \n",
       "150  Stocks, Mutual Fund, Gold/Silver/Platinum, Bon...    No   \n",
       "\n",
       "                       Work city                      Hometown  \n",
       "4                         Nagpur                       Nagpur   \n",
       "11   Chennai, Tamil Nadu, India           Nagpur, Maharashtra   \n",
       "62                        Nagpur                     Ramakona   \n",
       "65      Pune, Maharashtra, India    Nagpur, Maharashtra, India  \n",
       "77                      Gurugram                        Nagpur  \n",
       "84                         Pune                    Ahmednagar   \n",
       "87   Bengaluru, Karnataka, India    Nagpur, Maharashtra, India  \n",
       "115                       Nagpur                        Nagpur  \n",
       "132  Nagpur, Maharashtra, India   Pulgaon, Maharashtra, India   \n",
       "150                   Hyderabad                         Nagpur  "
      ]
     },
     "execution_count": 17,
     "metadata": {},
     "output_type": "execute_result"
    }
   ],
   "source": [
    "#checking again\n",
    "contradictionsRemaining = rawData[\n",
    "    (rawData[\"Investing\"] == \"No\") & \n",
    "    (rawData[\"Area of Investment\"] != \"I do not invest\")\n",
    "]\n",
    "\n",
    "print(f\"Total contradictions found: {len(contradictionsRemaining)}\")\n",
    "contradictionsRemaining\n"
   ]
  },
  {
   "cell_type": "code",
   "execution_count": 18,
   "metadata": {},
   "outputs": [
    {
     "name": "stdout",
     "output_type": "stream",
     "text": [
      "Total contradictions found with extra values: 0\n"
     ]
    },
    {
     "data": {
      "text/html": [
       "<div>\n",
       "<style scoped>\n",
       "    .dataframe tbody tr th:only-of-type {\n",
       "        vertical-align: middle;\n",
       "    }\n",
       "\n",
       "    .dataframe tbody tr th {\n",
       "        vertical-align: top;\n",
       "    }\n",
       "\n",
       "    .dataframe thead th {\n",
       "        text-align: right;\n",
       "    }\n",
       "</style>\n",
       "<table border=\"1\" class=\"dataframe\">\n",
       "  <thead>\n",
       "    <tr style=\"text-align: right;\">\n",
       "      <th></th>\n",
       "      <th>Timestamp</th>\n",
       "      <th>Age (Complete)</th>\n",
       "      <th>Gender</th>\n",
       "      <th>Are you employed</th>\n",
       "      <th>Investing</th>\n",
       "      <th>Area of Investment</th>\n",
       "      <th>ESOPs</th>\n",
       "      <th>Work city</th>\n",
       "      <th>Hometown</th>\n",
       "    </tr>\n",
       "  </thead>\n",
       "  <tbody>\n",
       "  </tbody>\n",
       "</table>\n",
       "</div>"
      ],
      "text/plain": [
       "Empty DataFrame\n",
       "Columns: [Timestamp, Age (Complete), Gender, Are you employed, Investing, Area of Investment, ESOPs, Work city, Hometown]\n",
       "Index: []"
      ]
     },
     "execution_count": 18,
     "metadata": {},
     "output_type": "execute_result"
    }
   ],
   "source": [
    "#final check\n",
    "# Finding records where \"I do not invest\" is present along with other values\n",
    "contradictionsWithExtraValues = contradictionsRemaining[\n",
    "    contradictionsRemaining[\"Area of Investment\"].str.contains(r\".*,.*I do not invest|I do not invest,.*\", case=False, regex=True)\n",
    "]\n",
    "\n",
    "print(f\"Total contradictions found with extra values: {len(contradictionsWithExtraValues)}\")\n",
    "contradictionsWithExtraValues\n"
   ]
  },
  {
   "cell_type": "code",
   "execution_count": 19,
   "metadata": {},
   "outputs": [],
   "source": [
    "# Updating 'Investing' to 'Yes' where it is 'No' but valid investments exist\n",
    "rawData.loc[\n",
    "    (rawData[\"Investing\"] == \"No\") & \n",
    "    (~rawData[\"Area of Investment\"].str.contains(\"I do not invest\", case=False, na=False)),\n",
    "    \"Investing\"\n",
    "] = \"Yes\""
   ]
  },
  {
   "cell_type": "code",
   "execution_count": 20,
   "metadata": {},
   "outputs": [
    {
     "name": "stdout",
     "output_type": "stream",
     "text": [
      "Total contradictions found: 0\n"
     ]
    },
    {
     "data": {
      "text/html": [
       "<div>\n",
       "<style scoped>\n",
       "    .dataframe tbody tr th:only-of-type {\n",
       "        vertical-align: middle;\n",
       "    }\n",
       "\n",
       "    .dataframe tbody tr th {\n",
       "        vertical-align: top;\n",
       "    }\n",
       "\n",
       "    .dataframe thead th {\n",
       "        text-align: right;\n",
       "    }\n",
       "</style>\n",
       "<table border=\"1\" class=\"dataframe\">\n",
       "  <thead>\n",
       "    <tr style=\"text-align: right;\">\n",
       "      <th></th>\n",
       "      <th>Timestamp</th>\n",
       "      <th>Age (Complete)</th>\n",
       "      <th>Gender</th>\n",
       "      <th>Are you employed</th>\n",
       "      <th>Investing</th>\n",
       "      <th>Area of Investment</th>\n",
       "      <th>ESOPs</th>\n",
       "      <th>Work city</th>\n",
       "      <th>Hometown</th>\n",
       "    </tr>\n",
       "  </thead>\n",
       "  <tbody>\n",
       "  </tbody>\n",
       "</table>\n",
       "</div>"
      ],
      "text/plain": [
       "Empty DataFrame\n",
       "Columns: [Timestamp, Age (Complete), Gender, Are you employed, Investing, Area of Investment, ESOPs, Work city, Hometown]\n",
       "Index: []"
      ]
     },
     "execution_count": 20,
     "metadata": {},
     "output_type": "execute_result"
    }
   ],
   "source": [
    "#checking if still any contradictions\n",
    "contradictionsRemaining = rawData[\n",
    "    (rawData[\"Investing\"] == \"No\") & \n",
    "    (~rawData[\"Area of Investment\"].str.contains(\"I do not invest\", case=False, na=False))\n",
    "]\n",
    "print(f\"Total contradictions found: {len(contradictionsRemaining)}\")\n",
    "contradictionsRemaining"
   ]
  },
  {
   "cell_type": "code",
   "execution_count": 21,
   "metadata": {},
   "outputs": [
    {
     "name": "stdout",
     "output_type": "stream",
     "text": [
      "Unique values in 'Area of Investment' where 'Investing' is 'No': ['I do not invest']\n"
     ]
    }
   ],
   "source": [
    "#final check \n",
    "# Checking unique values in 'Area of Investment' where 'Investing' is 'No'\n",
    "uniqueInvestments = rawData.loc[rawData[\"Investing\"] == \"No\", \"Area of Investment\"].unique()\n",
    "\n",
    "print(\"Unique values in 'Area of Investment' where 'Investing' is 'No':\", uniqueInvestments)\n"
   ]
  },
  {
   "cell_type": "code",
   "execution_count": 22,
   "metadata": {},
   "outputs": [
    {
     "data": {
      "image/png": "[encoded data removed]",
      "text/plain": [
       "<Figure size 640x480 with 1 Axes>"
      ]
     },
     "metadata": {},
     "output_type": "display_data"
    }
   ],
   "source": [
    "#data viz for gender\n",
    "genderCount = rawData['Gender'].value_counts()\n",
    "\n",
    "import matplotlib.pyplot as plt\n",
    "\n",
    "genderCount.plot(kind=\"bar\", color=[\"#66b3ff\", \"#ff9999\"])\n",
    "plt.xlabel(\"Count\")\n",
    "plt.ylabel(\"Gender\")\n",
    "plt.title(\"Gender Diversity\")\n",
    "plt.show()\n"
   ]
  },
  {
   "cell_type": "code",
   "execution_count": 23,
   "metadata": {},
   "outputs": [
    {
     "data": {
      "image/png": "[encoded data removed]",
      "text/plain": [
       "<Figure size 400x400 with 1 Axes>"
      ]
     },
     "metadata": {},
     "output_type": "display_data"
    }
   ],
   "source": [
    "esopCount = rawData['ESOPs'].value_counts()\n",
    "# print(type(rawData['ESOPs'].value_counts()))\n",
    "import matplotlib.pyplot as plt\n",
    "\n",
    "plt.figure(figsize=(4,4))\n",
    "plt.pie(esopCount, labels=esopCount.index, autopct=\"%1.1f%%\", colors=[\"#66b3ff\", \"#ff9999\"])\n",
    "plt.title(\"ESOPs Distribution (Yes vs No)\")\n",
    "plt.show()"
   ]
  },
  {
   "cell_type": "code",
   "execution_count": 24,
   "metadata": {},
   "outputs": [
    {
     "data": {
      "text/plain": [
       "Gender\n",
       "Male      84\n",
       "Female    82\n",
       "Name: count, dtype: int64"
      ]
     },
     "execution_count": 24,
     "metadata": {},
     "output_type": "execute_result"
    }
   ],
   "source": [
    "#counting the gender values\n",
    "rawData['Gender'].value_counts()"
   ]
  },
  {
   "cell_type": "code",
   "execution_count": 25,
   "metadata": {},
   "outputs": [
    {
     "data": {
      "text/html": [
       "<div>\n",
       "<style scoped>\n",
       "    .dataframe tbody tr th:only-of-type {\n",
       "        vertical-align: middle;\n",
       "    }\n",
       "\n",
       "    .dataframe tbody tr th {\n",
       "        vertical-align: top;\n",
       "    }\n",
       "\n",
       "    .dataframe thead th {\n",
       "        text-align: right;\n",
       "    }\n",
       "</style>\n",
       "<table border=\"1\" class=\"dataframe\">\n",
       "  <thead>\n",
       "    <tr style=\"text-align: right;\">\n",
       "      <th>ESOPs</th>\n",
       "      <th>No</th>\n",
       "      <th>Yes</th>\n",
       "    </tr>\n",
       "    <tr>\n",
       "      <th>Gender</th>\n",
       "      <th></th>\n",
       "      <th></th>\n",
       "    </tr>\n",
       "  </thead>\n",
       "  <tbody>\n",
       "    <tr>\n",
       "      <th>Female</th>\n",
       "      <td>74</td>\n",
       "      <td>6</td>\n",
       "    </tr>\n",
       "    <tr>\n",
       "      <th>Male</th>\n",
       "      <td>72</td>\n",
       "      <td>8</td>\n",
       "    </tr>\n",
       "  </tbody>\n",
       "</table>\n",
       "</div>"
      ],
      "text/plain": [
       "ESOPs   No  Yes\n",
       "Gender         \n",
       "Female  74    6\n",
       "Male    72    8"
      ]
     },
     "execution_count": 25,
     "metadata": {},
     "output_type": "execute_result"
    }
   ],
   "source": [
    "#checking how many men and women get esops\n",
    "rawData.groupby(\"Gender\")[\"ESOPs\"].value_counts().unstack()"
   ]
  },
  {
   "cell_type": "code",
   "execution_count": 26,
   "metadata": {},
   "outputs": [
    {
     "data": {
      "image/png": "[encoded data removed]",
      "text/plain": [
       "<Figure size 600x400 with 1 Axes>"
      ]
     },
     "metadata": {},
     "output_type": "display_data"
    }
   ],
   "source": [
    "#data viz based on how many men and women get esop or not\n",
    "import seaborn as sns\n",
    "import matplotlib.pyplot as plt\n",
    "\n",
    "plt.figure(figsize=(6,4))\n",
    "sns.countplot(x=\"Gender\", hue=\"ESOPs\", data=rawData, palette=[\"#FF9999\", \"#66B3FF\"])\n",
    "\n",
    "plt.title(\"ESOPs Distribution by Gender\")\n",
    "plt.xlabel(\"Gender\")\n",
    "plt.ylabel(\"Count\")\n",
    "plt.legend(title=\"ESOPs\")\n",
    "plt.show()\n"
   ]
  },
  {
   "cell_type": "code",
   "execution_count": 27,
   "metadata": {},
   "outputs": [
    {
     "name": "stdout",
     "output_type": "stream",
     "text": [
      "object\n"
     ]
    }
   ],
   "source": [
    "\n",
    "print(rawData[\"Age (Complete)\"].dtype) #checking data type\n",
    "#conversion to numbers\n",
    "rawData[\"Age (Complete)\"] = pd.to_numeric(rawData[\"Age (Complete)\"], errors=\"coerce\")\n",
    "\n"
   ]
  },
  {
   "cell_type": "code",
   "execution_count": 28,
   "metadata": {},
   "outputs": [
    {
     "name": "stdout",
     "output_type": "stream",
     "text": [
      "Maximum age of the participants in the survey: 68.0\n",
      "Minimum age of the participants in the survey: 16.0\n",
      "Average age of the participants in the survey: 29.7\n"
     ]
    }
   ],
   "source": [
    "#age\n",
    "print(f\"Maximum age of the participants in the survey: {rawData['Age (Complete)'].max():.1f}\")\n",
    "print(f\"Minimum age of the participants in the survey: {rawData['Age (Complete)'].min():.1f}\")\n",
    "print(f\"Average age of the participants in the survey: {rawData['Age (Complete)'].mean():.1f}\")"
   ]
  },
  {
   "cell_type": "code",
   "execution_count": 29,
   "metadata": {},
   "outputs": [
    {
     "data": {
      "text/plain": [
       "(0.0, 78.0)"
      ]
     },
     "execution_count": 29,
     "metadata": {},
     "output_type": "execute_result"
    },
    {
     "data": {
      "image/png": "[encoded data removed]",
      "text/plain": [
       "<Figure size 600x600 with 1 Axes>"
      ]
     },
     "metadata": {},
     "output_type": "display_data"
    }
   ],
   "source": [
    "#infographic on age analysis\n",
    "\n",
    "#value extraction\n",
    "minAge = rawData['Age (Complete)'].min()\n",
    "avgAge = rawData['Age (Complete)'].mean()\n",
    "maxAge = rawData['Age (Complete)'].max()\n",
    "\n",
    "\n",
    "\n",
    "#labels & values\n",
    "ageLabels = ['Min Age','Avg Age','Max Age']\n",
    "ageValues = [minAge,avgAge,maxAge]\n",
    "\n",
    "#colors for infographic style\n",
    "colors=[\"#ff9999\", \"#66b3ff\", \"#99ff99\"]\n",
    "\n",
    "#plotting\n",
    "plt.figure(figsize=(6,6))\n",
    "plt.bar(ageLabels,ageValues,color=colors)\n",
    "\n",
    "# Adding value labels on top\n",
    "for i, v in enumerate(ageValues):\n",
    "    plt.text(i, v + 1, f\"{v:.1f}\", ha='center', fontsize=12, fontweight='bold')\n",
    "\n",
    "plt.ylabel(\"Age (Years)\")\n",
    "plt.title(\"Age Statistics of Survey Participants\")\n",
    "plt.ylim(0, maxAge + 10)\n"
   ]
  },
  {
   "cell_type": "code",
   "execution_count": 30,
   "metadata": {},
   "outputs": [
    {
     "data": {
      "text/plain": [
       "count    160.00000\n",
       "mean      29.68750\n",
       "std        9.78459\n",
       "min       16.00000\n",
       "25%       24.75000\n",
       "50%       26.00000\n",
       "75%       29.00000\n",
       "max       68.00000\n",
       "Name: Age (Complete), dtype: float64"
      ]
     },
     "execution_count": 30,
     "metadata": {},
     "output_type": "execute_result"
    }
   ],
   "source": [
    "#stats of age\n",
    "rawData['Age (Complete)'].describe()"
   ]
  },
  {
   "cell_type": "code",
   "execution_count": 31,
   "metadata": {},
   "outputs": [
    {
     "data": {
      "text/plain": [
       "array(['Stocks, Gold/Silver/Platinum, Unit Linked Insurance Plans',\n",
       "       'Stocks, Mutual Fund, Bonds, Certificate of Deposit, Fixed Deposit, Public Provident Fund, National Pensions System',\n",
       "       'National Pensions System', 'Mutual Fund',\n",
       "       'Stocks, Mutual Fund, Real Estate, Gold/Silver/Platinum, Public Provident Fund',\n",
       "       'Mutual Fund, Fixed Deposit, Public Provident Fund',\n",
       "       'Stocks, Mutual Fund, Gold/Silver/Platinum',\n",
       "       'Stocks, Gold/Silver/Platinum, Bonds, Fixed Deposit',\n",
       "       'Fixed Deposit, Public Provident Fund', 'Stocks',\n",
       "       'Mutual Fund, Fixed Deposit', 'Stocks, Mutual Fund',\n",
       "       'Stocks, Mutual Fund, Real Estate, Gold/Silver/Platinum, Bonds, Certificate of Deposit, Fixed Deposit, Unit Linked Insurance Plans',\n",
       "       'Mutual Fund, Fixed Deposit, Unit Linked Insurance Plans',\n",
       "       'Stocks, Mutual Fund, Gold/Silver/Platinum, Bonds, Certificate of Deposit, Fixed Deposit',\n",
       "       'Stocks, Mutual Fund, Real Estate, Gold/Silver/Platinum',\n",
       "       'Stocks, Mutual Fund, Public Provident Fund',\n",
       "       'Stocks, Mutual Fund, Gold/Silver/Platinum, Fixed Deposit, Unit Linked Insurance Plans',\n",
       "       'Fixed Deposit, Public Provident Fund, Unit Linked Insurance Plans, LIC',\n",
       "       'I do not invest',\n",
       "       'Stocks, Mutual Fund, Gold/Silver/Platinum, Bonds, Public Provident Fund',\n",
       "       'Bonds, Certificate of Deposit, Fixed Deposit',\n",
       "       'Gold/Silver/Platinum, Fixed Deposit',\n",
       "       'Stocks, Mutual Fund, Gold/Silver/Platinum, Public Provident Fund, National Pensions System',\n",
       "       'Stocks, Mutual Fund, Fixed Deposit',\n",
       "       'Stocks, Mutual Fund, Gold/Silver/Platinum, Fixed Deposit, Public Provident Fund, National Pensions System',\n",
       "       'Stocks, Mutual Fund, Gold/Silver/Platinum, Bonds, Fixed Deposit',\n",
       "       'Stocks, Mutual Fund, Gold/Silver/Platinum, Fixed Deposit, Public Provident Fund',\n",
       "       'Stocks, Mutual Fund, Fixed Deposit, Public Provident Fund, National Pensions System, Crypto',\n",
       "       'Stocks, Gold/Silver/Platinum, Fixed Deposit',\n",
       "       'Mutual Fund, Gold/Silver/Platinum',\n",
       "       'Stocks, Gold/Silver/Platinum, Fixed Deposit, Public Provident Fund, Unit Linked Insurance Plans',\n",
       "       'Stocks, Mutual Fund, Gold/Silver/Platinum, Fixed Deposit, National Pensions System',\n",
       "       'Mutual Fund, Real Estate, Gold/Silver/Platinum',\n",
       "       'Stocks, Mutual Fund, Gold/Silver/Platinum, Bonds',\n",
       "       \"Stocks, Mutual Fund, Real Estate, Gold/Silver/Platinum, Fixed Deposit, Senior Citizen's Savings Scheme\",\n",
       "       'Stocks, Mutual Fund, Public Provident Fund, Unit Linked Insurance Plans',\n",
       "       'Stocks, Index', 'Stocks, Mutual Fund, National Pensions System',\n",
       "       'Mutual Fund, Gold/Silver/Platinum, Fixed Deposit, Public Provident Fund',\n",
       "       'Stocks, Real Estate, Gold/Silver/Platinum, National Pensions System',\n",
       "       'Mutual Fund, Public Provident Fund, National Pensions System',\n",
       "       'Fixed Deposit, RD',\n",
       "       'Stocks, Mutual Fund, Gold/Silver/Platinum, Bonds, Fixed Deposit, Public Provident Fund',\n",
       "       'Stocks, Mutual Fund, Gold/Silver/Platinum, Fixed Deposit, Public Provident Fund, Unit Linked Insurance Plans',\n",
       "       'Mutual Fund, Fixed Deposit, National Pensions System',\n",
       "       'Gold/Silver/Platinum',\n",
       "       'Stocks, Mutual Fund, Gold/Silver/Platinum, Public Provident Fund',\n",
       "       'Stocks, Mutual Fund, Gold/Silver/Platinum, Bonds, National Pensions System, Unit Linked Insurance Plans',\n",
       "       'Stocks, Mutual Fund, Real Estate, Gold/Silver/Platinum, Bonds, Public Provident Fund, National Pensions System',\n",
       "       'Stocks, Mutual Fund, Fixed Deposit, Public Provident Fund, National Pensions System',\n",
       "       'Mutual Fund, Gold/Silver/Platinum, Public Provident Fund',\n",
       "       'Stocks, Mutual Fund, Real Estate, Gold/Silver/Platinum, Fixed Deposit, Public Provident Fund',\n",
       "       'Stocks, Mutual Fund, Real Estate, Certificate of Deposit, Public Provident Fund',\n",
       "       'Stocks, Mutual Fund, Real Estate, Bonds, Fixed Deposit, Public Provident Fund',\n",
       "       'Public Provident Fund',\n",
       "       'National Pensions System, Unit Linked Insurance Plans, ',\n",
       "       'Stocks, Mutual Fund, Fixed Deposit, Public Provident Fund',\n",
       "       'Stocks, Mutual Fund, Fixed Deposit, Public Provident Fund, National Pensions System, Unit Linked Insurance Plans',\n",
       "       'Mutual Fund, Gold/Silver/Platinum, National Pensions System',\n",
       "       'Stocks, Public Provident Fund',\n",
       "       'Stocks, Public Provident Fund, Unit Linked Insurance Plans',\n",
       "       'Stocks, Fixed Deposit', 'Stocks, Mutual Fund, Real Estate',\n",
       "       \"Mutual Fund, Real Estate, Bonds, Fixed Deposit, Senior Citizen's Savings Scheme\",\n",
       "       'Stocks, Gold/Silver/Platinum',\n",
       "       'Gold/Silver/Platinum, Fixed Deposit, Public Provident Fund, Unit Linked Insurance Plans',\n",
       "       'Gold/Silver/Platinum, Certificate of Deposit, Fixed Deposit, Public Provident Fund',\n",
       "       'Gold/Silver/Platinum, Fixed Deposit, Public Provident Fund',\n",
       "       'Mutual Fund, Gold/Silver/Platinum, Fixed Deposit',\n",
       "       \"Stocks, Mutual Fund, Public Provident Fund, Senior Citizen's Savings Scheme\",\n",
       "       'Stocks, Real Estate, Fixed Deposit, Public Provident Fund',\n",
       "       'Fixed Deposit', 'Unit Linked Insurance Plans',\n",
       "       'Stocks, Mutual Fund, Gold/Silver/Platinum, Bonds, Fixed Deposit, Public Provident Fund, National Pensions System',\n",
       "       'Stocks, Mutual Fund, Real Estate, Gold/Silver/Platinum, Bonds, Fixed Deposit, Public Provident Fund, National Pensions System',\n",
       "       'Stocks, Derivatives, crypto'], dtype=object)"
      ]
     },
     "execution_count": 31,
     "metadata": {},
     "output_type": "execute_result"
    }
   ],
   "source": [
    "rawData['Area of Investment'].unique()"
   ]
  },
  {
   "cell_type": "code",
   "execution_count": 32,
   "metadata": {},
   "outputs": [
    {
     "name": "stdout",
     "output_type": "stream",
     "text": [
      "Unique values and their counts:\n",
      " Mutual Fund                        97\n",
      "Stocks                             86\n",
      "Fixed Deposit                      61\n",
      "Gold/Silver/Platinum               54\n",
      "Public Provident Fund              47\n",
      "National Pensions System           19\n",
      "Bonds                              18\n",
      "Unit Linked Insurance Plans        16\n",
      "Real Estate                        16\n",
      "Certificate of Deposit              7\n",
      "Senior Citizen's Savings Scheme     3\n",
      "LIC                                 1\n",
      "Crypto                              1\n",
      "Index                               1\n",
      "RD                                  1\n",
      "                                    1\n",
      "Derivatives                         1\n",
      "crypto                              1\n",
      "Name: count, dtype: int64\n"
     ]
    }
   ],
   "source": [
    "# when we filter for 'Investing' == 'Yes' \n",
    "filteredData = rawData.loc[rawData[\"Investing\"] == \"Yes\",'Area of Investment']\n",
    "\n",
    "# Remove Null values, split using comma, trim spaces for unique values\n",
    "uniqueInvestments = pd.Series(\n",
    "    ', '.join(filteredData.dropna()).split(',')\n",
    ").str.strip().value_counts()\n",
    "\n",
    "print(\"Unique values and their counts:\\n\", uniqueInvestments)\n"
   ]
  },
  {
   "cell_type": "code",
   "execution_count": 33,
   "metadata": {},
   "outputs": [],
   "source": [
    "#replacing \n",
    "rawData[\"Area of Investment\"] = rawData[\"Area of Investment\"].replace(\n",
    "    {\"RD\": \"Recurring Deposits\", \"crypto\": \"Crypto\"}, regex=True\n",
    ")\n"
   ]
  },
  {
   "cell_type": "code",
   "execution_count": 34,
   "metadata": {},
   "outputs": [
    {
     "name": "stdout",
     "output_type": "stream",
     "text": [
      "Unique values and their counts:\n",
      " Mutual Fund                        97\n",
      "Stocks                             86\n",
      "Fixed Deposit                      61\n",
      "Gold/Silver/Platinum               54\n",
      "Public Provident Fund              47\n",
      "National Pensions System           19\n",
      "Bonds                              18\n",
      "Unit Linked Insurance Plans        16\n",
      "Real Estate                        16\n",
      "Certificate of Deposit              7\n",
      "Senior Citizen's Savings Scheme     3\n",
      "Crypto                              2\n",
      "LIC                                 1\n",
      "Index                               1\n",
      "Recurring Deposits                  1\n",
      "                                    1\n",
      "Derivatives                         1\n",
      "Name: count, dtype: int64\n"
     ]
    }
   ],
   "source": [
    "#checking values again\n",
    "# when we filter for 'Investing' == 'Yes' \n",
    "filteredData = rawData.loc[rawData[\"Investing\"] == \"Yes\",'Area of Investment']\n",
    "\n",
    "# Remove Null values, split using comma, trim spaces for unique values\n",
    "uniqueInvestments = pd.Series(\n",
    "    ', '.join(filteredData.dropna()).split(',')\n",
    ").str.strip().value_counts()\n",
    "\n",
    "print(\"Unique values and their counts:\\n\", uniqueInvestments)"
   ]
  },
  {
   "cell_type": "code",
   "execution_count": 35,
   "metadata": {},
   "outputs": [],
   "source": [
    "#replacing \n",
    "rawData[\"Area of Investment\"] = rawData[\"Area of Investment\"].replace(\n",
    "    {\"LIC\": \"Unit Linked Insurance Plans\"}, regex=True\n",
    ")"
   ]
  },
  {
   "cell_type": "code",
   "execution_count": 36,
   "metadata": {},
   "outputs": [
    {
     "name": "stdout",
     "output_type": "stream",
     "text": [
      "Unique values and their counts:\n",
      " Mutual Fund                        97\n",
      "Stocks                             86\n",
      "Fixed Deposit                      61\n",
      "Gold/Silver/Platinum               54\n",
      "Public Provident Fund              47\n",
      "National Pensions System           19\n",
      "Bonds                              18\n",
      "Unit Linked Insurance Plans        17\n",
      "Real Estate                        16\n",
      "Certificate of Deposit              7\n",
      "Senior Citizen's Savings Scheme     3\n",
      "Crypto                              2\n",
      "Index                               1\n",
      "Recurring Deposits                  1\n",
      "                                    1\n",
      "Derivatives                         1\n",
      "Name: count, dtype: int64\n"
     ]
    }
   ],
   "source": [
    "#checking values again\n",
    "# when we filter for 'Investing' == 'Yes' \n",
    "filteredData = rawData.loc[rawData[\"Investing\"] == \"Yes\",'Area of Investment']\n",
    "\n",
    "# Remove Null values, split using comma, trim spaces for unique values\n",
    "uniqueInvestments = pd.Series(\n",
    "    ', '.join(filteredData.dropna()).split(',')\n",
    ").str.strip().value_counts()\n",
    "\n",
    "print(\"Unique values and their counts:\\n\", uniqueInvestments)"
   ]
  },
  {
   "cell_type": "code",
   "execution_count": 37,
   "metadata": {},
   "outputs": [
    {
     "data": {
      "text/html": [
       "<div>\n",
       "<style scoped>\n",
       "    .dataframe tbody tr th:only-of-type {\n",
       "        vertical-align: middle;\n",
       "    }\n",
       "\n",
       "    .dataframe tbody tr th {\n",
       "        vertical-align: top;\n",
       "    }\n",
       "\n",
       "    .dataframe thead th {\n",
       "        text-align: right;\n",
       "    }\n",
       "</style>\n",
       "<table border=\"1\" class=\"dataframe\">\n",
       "  <thead>\n",
       "    <tr style=\"text-align: right;\">\n",
       "      <th></th>\n",
       "      <th>Investment Type</th>\n",
       "      <th>Count</th>\n",
       "    </tr>\n",
       "  </thead>\n",
       "  <tbody>\n",
       "    <tr>\n",
       "      <th>0</th>\n",
       "      <td>Mutual Fund</td>\n",
       "      <td>97</td>\n",
       "    </tr>\n",
       "    <tr>\n",
       "      <th>1</th>\n",
       "      <td>Stocks</td>\n",
       "      <td>86</td>\n",
       "    </tr>\n",
       "    <tr>\n",
       "      <th>2</th>\n",
       "      <td>Fixed Deposit</td>\n",
       "      <td>61</td>\n",
       "    </tr>\n",
       "    <tr>\n",
       "      <th>3</th>\n",
       "      <td>Gold/Silver/Platinum</td>\n",
       "      <td>54</td>\n",
       "    </tr>\n",
       "    <tr>\n",
       "      <th>4</th>\n",
       "      <td>Public Provident Fund</td>\n",
       "      <td>47</td>\n",
       "    </tr>\n",
       "    <tr>\n",
       "      <th>5</th>\n",
       "      <td>National Pensions System</td>\n",
       "      <td>19</td>\n",
       "    </tr>\n",
       "    <tr>\n",
       "      <th>6</th>\n",
       "      <td>Bonds</td>\n",
       "      <td>18</td>\n",
       "    </tr>\n",
       "    <tr>\n",
       "      <th>7</th>\n",
       "      <td>Unit Linked Insurance Plans</td>\n",
       "      <td>17</td>\n",
       "    </tr>\n",
       "    <tr>\n",
       "      <th>8</th>\n",
       "      <td>Real Estate</td>\n",
       "      <td>16</td>\n",
       "    </tr>\n",
       "    <tr>\n",
       "      <th>9</th>\n",
       "      <td>Certificate of Deposit</td>\n",
       "      <td>7</td>\n",
       "    </tr>\n",
       "    <tr>\n",
       "      <th>10</th>\n",
       "      <td>Senior Citizen's Savings Scheme</td>\n",
       "      <td>3</td>\n",
       "    </tr>\n",
       "    <tr>\n",
       "      <th>11</th>\n",
       "      <td>Crypto</td>\n",
       "      <td>2</td>\n",
       "    </tr>\n",
       "    <tr>\n",
       "      <th>12</th>\n",
       "      <td>Index</td>\n",
       "      <td>1</td>\n",
       "    </tr>\n",
       "    <tr>\n",
       "      <th>13</th>\n",
       "      <td>Recurring Deposits</td>\n",
       "      <td>1</td>\n",
       "    </tr>\n",
       "    <tr>\n",
       "      <th>14</th>\n",
       "      <td></td>\n",
       "      <td>1</td>\n",
       "    </tr>\n",
       "    <tr>\n",
       "      <th>15</th>\n",
       "      <td>Derivatives</td>\n",
       "      <td>1</td>\n",
       "    </tr>\n",
       "  </tbody>\n",
       "</table>\n",
       "</div>"
      ],
      "text/plain": [
       "                    Investment Type  Count\n",
       "0                       Mutual Fund     97\n",
       "1                            Stocks     86\n",
       "2                     Fixed Deposit     61\n",
       "3              Gold/Silver/Platinum     54\n",
       "4             Public Provident Fund     47\n",
       "5          National Pensions System     19\n",
       "6                             Bonds     18\n",
       "7       Unit Linked Insurance Plans     17\n",
       "8                       Real Estate     16\n",
       "9            Certificate of Deposit      7\n",
       "10  Senior Citizen's Savings Scheme      3\n",
       "11                           Crypto      2\n",
       "12                            Index      1\n",
       "13               Recurring Deposits      1\n",
       "14                                       1\n",
       "15                      Derivatives      1"
      ]
     },
     "execution_count": 37,
     "metadata": {},
     "output_type": "execute_result"
    }
   ],
   "source": [
    "# Convert to DataFrame\n",
    "investmentType = uniqueInvestments.reset_index()\n",
    "investmentType.columns = [\"Investment Type\", \"Count\"]\n",
    "investmentType"
   ]
  },
  {
   "cell_type": "code",
   "execution_count": 38,
   "metadata": {},
   "outputs": [
    {
     "data": {
      "text/html": [
       "<div>\n",
       "<style scoped>\n",
       "    .dataframe tbody tr th:only-of-type {\n",
       "        vertical-align: middle;\n",
       "    }\n",
       "\n",
       "    .dataframe tbody tr th {\n",
       "        vertical-align: top;\n",
       "    }\n",
       "\n",
       "    .dataframe thead th {\n",
       "        text-align: right;\n",
       "    }\n",
       "</style>\n",
       "<table border=\"1\" class=\"dataframe\">\n",
       "  <thead>\n",
       "    <tr style=\"text-align: right;\">\n",
       "      <th></th>\n",
       "      <th>Investment Type</th>\n",
       "      <th>Count</th>\n",
       "    </tr>\n",
       "  </thead>\n",
       "  <tbody>\n",
       "    <tr>\n",
       "      <th>0</th>\n",
       "      <td>Mutual Fund</td>\n",
       "      <td>97</td>\n",
       "    </tr>\n",
       "    <tr>\n",
       "      <th>1</th>\n",
       "      <td>Stocks</td>\n",
       "      <td>86</td>\n",
       "    </tr>\n",
       "    <tr>\n",
       "      <th>2</th>\n",
       "      <td>Fixed Deposit</td>\n",
       "      <td>61</td>\n",
       "    </tr>\n",
       "    <tr>\n",
       "      <th>3</th>\n",
       "      <td>Gold/Silver/Platinum</td>\n",
       "      <td>54</td>\n",
       "    </tr>\n",
       "    <tr>\n",
       "      <th>4</th>\n",
       "      <td>Public Provident Fund</td>\n",
       "      <td>47</td>\n",
       "    </tr>\n",
       "    <tr>\n",
       "      <th>5</th>\n",
       "      <td>National Pensions System</td>\n",
       "      <td>19</td>\n",
       "    </tr>\n",
       "    <tr>\n",
       "      <th>6</th>\n",
       "      <td>Bonds</td>\n",
       "      <td>18</td>\n",
       "    </tr>\n",
       "    <tr>\n",
       "      <th>7</th>\n",
       "      <td>Unit Linked Insurance Plans</td>\n",
       "      <td>17</td>\n",
       "    </tr>\n",
       "    <tr>\n",
       "      <th>8</th>\n",
       "      <td>Real Estate</td>\n",
       "      <td>16</td>\n",
       "    </tr>\n",
       "    <tr>\n",
       "      <th>9</th>\n",
       "      <td>Certificate of Deposit</td>\n",
       "      <td>7</td>\n",
       "    </tr>\n",
       "    <tr>\n",
       "      <th>10</th>\n",
       "      <td>Senior Citizen's Savings Scheme</td>\n",
       "      <td>3</td>\n",
       "    </tr>\n",
       "    <tr>\n",
       "      <th>11</th>\n",
       "      <td>Crypto</td>\n",
       "      <td>2</td>\n",
       "    </tr>\n",
       "    <tr>\n",
       "      <th>12</th>\n",
       "      <td>Index</td>\n",
       "      <td>1</td>\n",
       "    </tr>\n",
       "    <tr>\n",
       "      <th>13</th>\n",
       "      <td>Recurring Deposits</td>\n",
       "      <td>1</td>\n",
       "    </tr>\n",
       "    <tr>\n",
       "      <th>15</th>\n",
       "      <td>Derivatives</td>\n",
       "      <td>1</td>\n",
       "    </tr>\n",
       "  </tbody>\n",
       "</table>\n",
       "</div>"
      ],
      "text/plain": [
       "                    Investment Type  Count\n",
       "0                       Mutual Fund     97\n",
       "1                            Stocks     86\n",
       "2                     Fixed Deposit     61\n",
       "3              Gold/Silver/Platinum     54\n",
       "4             Public Provident Fund     47\n",
       "5          National Pensions System     19\n",
       "6                             Bonds     18\n",
       "7       Unit Linked Insurance Plans     17\n",
       "8                       Real Estate     16\n",
       "9            Certificate of Deposit      7\n",
       "10  Senior Citizen's Savings Scheme      3\n",
       "11                           Crypto      2\n",
       "12                            Index      1\n",
       "13               Recurring Deposits      1\n",
       "15                      Derivatives      1"
      ]
     },
     "execution_count": 38,
     "metadata": {},
     "output_type": "execute_result"
    }
   ],
   "source": [
    "investmentType = investmentType[investmentType[\"Investment Type\"] != \"\"]\n",
    "investmentType"
   ]
  },
  {
   "cell_type": "code",
   "execution_count": 39,
   "metadata": {},
   "outputs": [
    {
     "name": "stdout",
     "output_type": "stream",
     "text": [
      "         Investment Type  Count\n",
      "0            Mutual Fund     97\n",
      "1                 Stocks     86\n",
      "2          Fixed Deposit     61\n",
      "3   Gold/Silver/Platinum     54\n",
      "4  Public Provident Fund     47\n",
      "<class 'pandas.core.frame.DataFrame'>\n"
     ]
    }
   ],
   "source": [
    "print(investmentType.head())\n",
    "print(type(investmentType))\n"
   ]
  },
  {
   "cell_type": "code",
   "execution_count": 51,
   "metadata": {},
   "outputs": [
    {
     "data": {
      "image/png": "[encoded data removed]",
      "text/plain": [
       "<Figure size 1000x500 with 1 Axes>"
      ]
     },
     "metadata": {},
     "output_type": "display_data"
    }
   ],
   "source": [
    "plt.figure(figsize=(10,5))\n",
    "sns.barplot(x=investmentType[\"Investment Type\"], y=investmentType[\"Count\"], hue=investmentType[\"Investment Type\"], palette=\"viridis\", legend=False)\n",
    "\n",
    "plt.xticks(rotation=85)\n",
    "plt.xlabel(\"Investment Type\")\n",
    "plt.ylabel(\"Number of survey participants\")\n",
    "plt.title(\"Distribution of Investment Types\")\n",
    "plt.show()\n"
   ]
  },
  {
   "cell_type": "code",
   "execution_count": null,
   "metadata": {},
   "outputs": [
    {
     "data": {
      "image/png": "[encoded data removed]",
      "text/plain": [
       "<Figure size 1200x600 with 1 Axes>"
      ]
     },
     "metadata": {},
     "output_type": "display_data"
    }
   ],
   "source": [
    "# Filter only Female respondents\n",
    "femaleData = rawData[rawData[\"Gender\"] == \"Female\"][\"Area of Investment\"].dropna()\n",
    "\n",
    "# Split the comma-separated values, strip spaces, and count occurrences\n",
    "femaleInvestments = pd.Series(\n",
    "    ', '.join(femaleData).split(',')\n",
    ").str.strip().value_counts()\n",
    "\n",
    "# Removal of any blank values\n",
    "femaleInvestments = femaleInvestments[femaleInvestments.index != \"\"]\n",
    "\n",
    "# Plot\n",
    "plt.figure(figsize=(12,6))\n",
    "sns.barplot(x=femaleInvestments.index, y=femaleInvestments.values, hue=femaleInvestments.index, palette=\"magma\", legend=False)\n",
    "plt.xticks(rotation=85)\n",
    "plt.xlabel(\"Investment Type\")\n",
    "plt.ylabel(\"No. of Female Participants\")\n",
    "plt.title(\"Investment Types among Females\")\n",
    "plt.show()\n",
    "\n"
   ]
  },
  {
   "cell_type": "code",
   "execution_count": 52,
   "metadata": {},
   "outputs": [
    {
     "data": {
      "text/plain": [
       "Index(['Timestamp', 'Age (Complete)', 'Gender', 'Are you employed',\n",
       "       'Investing', 'Area of Investment', 'ESOPs', 'Work city', 'Hometown'],\n",
       "      dtype='object')"
      ]
     },
     "execution_count": 52,
     "metadata": {},
     "output_type": "execute_result"
    }
   ],
   "source": [
    "rawData.columns"
   ]
  },
  {
   "cell_type": "code",
   "execution_count": 58,
   "metadata": {},
   "outputs": [
    {
     "data": {
      "image/png": "[encoded data removed]",
      "text/plain": [
       "<Figure size 640x480 with 1 Axes>"
      ]
     },
     "metadata": {},
     "output_type": "display_data"
    }
   ],
   "source": [
    "#investments based on gender\n",
    "sns.countplot(x=\"Investing\", hue=\"Gender\", data=rawData, palette=\"viridis\")\n",
    "plt.title(\"Investment Choices by Gender\")\n",
    "plt.ylabel(\"Number of participants\")\n",
    "plt.xlabel(\"Investing or not\")\n",
    "plt.show()\n"
   ]
  },
  {
   "cell_type": "code",
   "execution_count": null,
   "metadata": {},
   "outputs": [],
   "source": [
    "#next step is to clean data again for city"
   ]
  }
 ],
 "metadata": {
  "kernelspec": {
   "display_name": "venv",
   "language": "python",
   "name": "python3"
  },
  "language_info": {
   "codemirror_mode": {
    "name": "ipython",
    "version": 3
   },
   "file_extension": ".py",
   "mimetype": "text/x-python",
   "name": "python",
   "nbconvert_exporter": "python",
   "pygments_lexer": "ipython3",
   "version": "3.11.5"
  }
 },
 "nbformat": 4,
 "nbformat_minor": 2
}
